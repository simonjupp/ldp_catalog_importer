{
 "cells": [
  {
   "cell_type": "markdown",
   "metadata": {
    "collapsed": true
   },
   "source": [
    "# Querying catalogs of registries with the Linked Data Platform"
   ]
  },
  {
   "cell_type": "markdown",
   "metadata": {},
   "source": [
    "We have integrated metadata about registries from four datasources but aligning them to a common schema that is being proposed by team working on EJP WP11 tasks 1.1. The registry data currently comes from the ERDRI, Orphanet and RD conncet catalog of registries and RD connect catalog of biobanks. The data has been harmonised based on an RDF model from the DCAT vocabulary so that we can query across the metadata using SPARQL. The data has been loaded into a Link Data Platform (LDP) instance running at http://training.fairdata.solutions/DAV/home/EJP_HACK/Jupp/ where the LDP model is used to represents individual datasets as containes that can be navigated using linked data principles (i.e. using stable URIs to access the data and a follow your nose apporach to finding linked datasets).  "
   ]
  },
  {
   "cell_type": "markdown",
   "metadata": {},
   "source": [
    "In this notebook you will see how we can query the LDP data to answer some use-cases relating to discovery of patient registries across catalogues. First we'll connect to the SPARQL endpoint where the data resides."
   ]
  },
  {
   "cell_type": "code",
   "execution_count": 2,
   "metadata": {},
   "outputs": [],
   "source": [
    "from SPARQLWrapper import SPARQLWrapper, JSON\n",
    "\n",
    "endpoint = 'http://training.fairdata.solutions/sparql'\n",
    "sparql = SPARQLWrapper(endpoint)\n",
    "\n",
    "prefixes = \"\"\"\n",
    "PREFIX foaf: <http://xmlns.com/foaf/0.1/>\n",
    "PREFIX fo: <http://www.w3.org/1999/XSL/Format#>\n",
    "PREFIX dc: <http://purl.org/dc/elements/1.1/>\n",
    "PREFIX iao: <http://purl.obolibrary.org/obo/iao.owl#>\n",
    "PREFIX schema: <http://schema.org/>\n",
    "PREFIX sc: <http://purl.org/science/owl/sciencecommons/>\n",
    "PREFIX sio: <http://semanticscience.org/resource/>\n",
    "PREFIX ncit: <http://purl.obolibrary.org/obo/>\n",
    "PREFIX dcat: <http://www.w3.org/ns/dcat#>\n",
    "PREFIX dct: <http://purl.org/dc/terms/>\n",
    "PREFIX ldp: <http://www.w3.org/ns/ldp#>\n",
    "PREFIX rdf: <http://www.w3.org/1999/02/22-rdf-syntax-ns#>\n",
    "PREFIX rdfs: <http://www.w3.org/2000/01/rdf-schema#>\n",
    "PREFIX ejp: <http://purl.org/ejp-rd/vocabulary/>\n",
    "PREFIX orphanet: <http://www.orpha.net/ORDO/Orphanet_>\n",
    "\n",
    "\"\"\"\n"
   ]
  },
  {
   "cell_type": "markdown",
   "metadata": {},
   "source": [
    "## Use case sceanrio 1 \n",
    "\n",
    "A user of the virtual platform (VP) wants to discover all patient registries for a particular disease in their country. I this example we will get the catalog name and registry name for all registries in France. \n"
   ]
  },
  {
   "cell_type": "code",
   "execution_count": 4,
   "metadata": {},
   "outputs": [
    {
     "name": "stdout",
     "output_type": "stream",
     "text": [
      "European Directory of Registries   FPHR  France\nRD-Connect Registry & Biobank Finder   The global aHUS Registry  France\nRD-Connect Registry & Biobank Finder   French national registry for thrombotic microangiopathy  France\nRD-Connect Registry & Biobank Finder   French registry of atypical child hemolytic uremic syndrome  France\nRD-Connect Registry & Biobank Finder   French cystinosis registry  France\nRD-Connect Registry & Biobank Finder   DM Scope (Myotonic dystrophy patient registry in France)  France\nRD-Connect Registry & Biobank Finder   Leukofrance database and biobank  France\nRD-Connect Registry & Biobank Finder   RaDiCo-COBBALT - French national nohort on Bardet-Biedl and Alström syndromes  France\nRD-Connect Registry & Biobank Finder   RaDiCo-PP - French cohort for clinical, genetic and socio-economic study of Periodic Paralysis  France\nRD-Connect Registry & Biobank Finder   RaDiCo-MPS - French national cohort on mucopolysaccharidosis in the era of specific therapeutics.  France\nRD-Connect Registry & Biobank Finder   RaDiCo-EURBIO-Alport - European cohort on Alport Syndrome  France\nRD-Connect Registry & Biobank Finder   FranceCoag: French cohort of patients suffering from hereditary coagulation disorders  France\nRD-Connect Registry & Biobank Finder   RaDiCo-GenIDA - Social network on rare monogenic forms of intellectual disabilities  France\nRD-Connect Registry & Biobank Finder   RaDiCo-ACOStill - The French Adult and Childhood Onset Still Disease Cohort  France\nRD-Connect Registry & Biobank Finder   RaDiCo-MARFAN - French national cohort on Marfan syndrome  France\nRD-Connect Registry & Biobank Finder   French acromegaly registry  France\nRD-Connect Registry & Biobank Finder   RaDiCo-SED-VASC - French national cohort on the vascular Ehlers-Danlos syndrome  France\nRD-Connect Registry & Biobank Finder   French Gaucher’s disease registry  France\nRD-Connect Registry & Biobank Finder   Motor Function Measure database (Neuromuscular Diseases)  France\nRD-Connect Registry & Biobank Finder   French Cystic Fibrosis Registry  France\nRD-Connect Registry & Biobank Finder   RaDiCo-PCD - French national cohort on Primary Ciliary Dyskinesia  France\nRD-Connect Registry & Biobank Finder   French registry for Langerhans cell histiocytosis  France\nRD-Connect Registry & Biobank Finder   French Pompe registry  France\nRD-Connect Registry & Biobank Finder   RaDiCo-ECYSCO - European Cystinosis Cohort  France\nRD-Connect Registry & Biobank Finder   RaDiCo-IDMet - French and European cohort on Imprinting Disorders and Metabolism Future.  France\nRD-Connect Registry & Biobank Finder   RaDiCo-COLPAC - French national cohort on Low Phospholipid-Associated Cholelithiasis syndrome  France\nRD-Connect Registry & Biobank Finder   European LeukoDataBase  France\nRD-Connect Registry & Biobank Finder   Observatoire National Français des Patients Atteints de Dystrophie Musculaire Facio-Scapulo-Humérale  France\nRD-Connect Registry & Biobank Finder   French registry of autosomal recessive polycystic kidney disease  France\nRD-Connect Registry & Biobank Finder   The International Dysferlinopathy Registry  France\nRD-Connect Registry & Biobank Finder   RaDiCo-AC-ŒIL - French national cohort on congenital defects of the eye  France\nRD-Connect Registry & Biobank Finder   EUROTRAPS: European patient registry on TRAPS syndrome  France\nRD-Connect Registry & Biobank Finder   Marfan Syndrome and Associated Pathologies registries  France\nRD-Connect Registry & Biobank Finder   CoF-AT study: a French cohort on ataxia-telangiectasia  France\nRD-Connect Registry & Biobank Finder   French primary immunodeficiencies registry  France\nRD-Connect Registry & Biobank Finder   RaDiCo-PID - French national cohort on Idiopathic Interstitial Pneumonia: from infancy to elderly.  France\nRD-Connect Registry & Biobank Finder   European CHS registry  France\nRD-Connect Registry & Biobank Finder   Aquitain registry of Mesothelioma  France\nRD-Connect Registry & Biobank Finder   EUROWILSON: European clinical database for Wilson disease  France\nRD-Connect Registry & Biobank Finder   RaDiCo-FARD - French national cohort on the individual burden in the course of rare skin diseases  France\nRD-Connect Registry & Biobank Finder   RaDiCo-RETICO - French national Cohort on hereditary retinal dystrophies  France\nRD-Connect Registry & Biobank Finder   French registry of rare pulmonary hypertension (HTAP)  France\n"
     ]
    }
   ],
   "source": [
    "uc1_query = prefixes+\"\"\"\n",
    "SELECT DISTINCT ?catalog_title ?reg_title ?country\n",
    "WHERE {\n",
    "\n",
    "  <http://training.fairdata.solutions/DAV/home/EJP_HACK/Jupp/> ldp:contains ?catalog_container .\n",
    "\n",
    "  GRAPH ?catalog_container {\n",
    "    ?catalog a ejp:CatalogOfRegistries .\n",
    "    ?catalog dct:title ?catalog_title .\n",
    "    ?catalog dcat:dataset ?registry .\n",
    "    ?catalog_container ldp:contains ?registry_container\n",
    "  }\n",
    "  GRAPH ?registry_container {\n",
    "    ?registry a ?registry_type .\n",
    "    FILTER (?registry_type IN (ejp:BiobankDataset, ejp:PatientRegistryDataset))\n",
    "    ?registry dct:title ?reg_title .\n",
    "    ?registry dcat:theme ?disease .\n",
    "    ?registry dct:publisher [ dct:spatial [ ejp:country ?country] ]\n",
    "    FILTER (?country = \"France\")\n",
    "\n",
    "  }\n",
    "}\n",
    "\"\"\"\n",
    "\n",
    "sparql.setQuery(uc1_query)\n",
    "sparql.setReturnFormat(JSON)\n",
    "results = sparql.query().convert()\n",
    "\n",
    "\n",
    "for result in results[\"results\"][\"bindings\"]:\n",
    "    print(\"{}   {}  {}\".format(result['catalog_title']['value'],result['reg_title']['value'],result['country']['value'] ))"
   ]
  },
  {
   "cell_type": "markdown",
   "metadata": {},
   "source": [
    "## Use case scenario 2\n",
    "\n",
    "Find all registries that deal with rare pulmonary hypertension (Orphanet code Orphanet:71198)\n"
   ]
  },
  {
   "cell_type": "code",
   "execution_count": 5,
   "metadata": {},
   "outputs": [
    {
     "name": "stdout",
     "output_type": "stream",
     "text": [
      "European Directory of Registries   FPHR  France\nOrphanet   French registry of rare pulmonary hypertension (HTAP)  FRANCE\nOrphanet   REHIPED - Spanish Registry for Pediatric Pulmonary Hypertension  SPAIN\n"
     ]
    }
   ],
   "source": [
    "uc2_query = prefixes+\"\"\"\n",
    "SELECT DISTINCT ?catalog_title ?reg_title ?country \n",
    "WHERE {\n",
    "\n",
    "  <http://training.fairdata.solutions/DAV/home/EJP_HACK/Jupp/> ldp:contains ?catalog_container .\n",
    "\n",
    "  GRAPH ?catalog_container {\n",
    "    ?catalog a ejp:CatalogOfRegistries .\n",
    "    ?catalog dct:title ?catalog_title .\n",
    "    ?catalog dcat:dataset ?registry .\n",
    "    ?catalog_container ldp:contains ?registry_container\n",
    "  }\n",
    "  GRAPH ?registry_container {\n",
    "    ?registry a ?registry_type .\n",
    "    FILTER (?registry_type IN (ejp:BiobankDataset, ejp:PatientRegistryDataset))\n",
    "    ?registry dct:title ?reg_title .\n",
    "    ?registry dcat:theme ?disease .\n",
    "    ?registry dct:publisher [ dct:spatial [ ejp:country ?country] ]\n",
    "    FILTER (?disease = orphanet:71198)\n",
    "\n",
    "  }\n",
    "\n",
    "}\n",
    "\n",
    "\"\"\"\n",
    "\n",
    "sparql.setQuery(uc2_query)\n",
    "sparql.setReturnFormat(JSON)\n",
    "results = sparql.query().convert()\n",
    "\n",
    "\n",
    "for result in results[\"results\"][\"bindings\"]:\n",
    "    print(\"{}   {}  {}\".format(result['catalog_title']['value'],result['reg_title']['value'],result['country']['value'] ))"
   ]
  },
  {
   "cell_type": "code",
   "execution_count": null,
   "metadata": {},
   "outputs": [],
   "source": []
  }
 ],
 "metadata": {
  "kernelspec": {
   "display_name": "Python 2",
   "language": "python",
   "name": "python2"
  },
  "language_info": {
   "codemirror_mode": {
    "name": "ipython",
    "version": 2
   },
   "file_extension": ".py",
   "mimetype": "text/x-python",
   "name": "python",
   "nbconvert_exporter": "python",
   "pygments_lexer": "ipython2",
   "version": "2.7.6"
  }
 },
 "nbformat": 4,
 "nbformat_minor": 0
}
